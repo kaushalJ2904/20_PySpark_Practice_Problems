{
 "cells": [
  {
   "cell_type": "code",
   "execution_count": 0,
   "metadata": {
    "application/vnd.databricks.v1+cell": {
     "cellMetadata": {
      "byteLimit": 2048000,
      "rowLimit": 10000
     },
     "inputWidgets": {},
     "nuid": "4bce4b87-168c-4344-8325-cfa39d1eabf4",
     "showTitle": false,
     "title": ""
    }
   },
   "outputs": [],
   "source": [
    "import pyspark.sql.functions as F\n",
    "from datetime import datetime\n",
    "from pyspark.sql.types import StructType, StructField, IntegerType, StringType, DateType\n",
    "from pyspark.sql.window import Window"
   ]
  },
  {
   "cell_type": "code",
   "execution_count": 0,
   "metadata": {
    "application/vnd.databricks.v1+cell": {
     "cellMetadata": {
      "byteLimit": 2048000,
      "rowLimit": 10000
     },
     "inputWidgets": {},
     "nuid": "1420e136-44e2-4738-9d77-5262ec947bbf",
     "showTitle": false,
     "title": ""
    }
   },
   "outputs": [],
   "source": [
    "# Define the schema for the DataFrame\n",
    "dept_schema = StructType([\n",
    "    StructField(\"department_id\", IntegerType(), True),\n",
    "    StructField(\"department_name\", StringType(), True),\n",
    "    StructField(\"location_id\", IntegerType(), True)\n",
    "])\n",
    "\n",
    "# Create a list of tuples with the data\n",
    "dept_data = [\n",
    "    (20, 'Marketing', 180),\n",
    "    (30, 'Purchasing', 1700),\n",
    "    (40, 'Human Resources', 2400),\n",
    "    (50, 'Shipping', 1500),\n",
    "    (60, 'IT', 1400),\n",
    "    (70, 'Public Relations', 2700),\n",
    "    (80, 'Sales', 2500),\n",
    "    (90, 'Executive', 1700),\n",
    "    (100, 'Finance', 1700),\n",
    "    (110, 'Accounting', 1700),\n",
    "    (120, 'Treasury', 1700),\n",
    "    (130, 'Corporate Tax', 1700),\n",
    "    (140, 'Control And Credit', 1700),\n",
    "    (150, 'Shareholder Services', 1700),\n",
    "    (160, 'Benefits', 1700),\n",
    "    (170, 'Payroll', 1700)\n",
    "]\n",
    "\n",
    "# Create a PySpark DataFrame\n",
    "df_dept = spark.createDataFrame(dept_data, dept_schema)\n",
    "\n",
    "# Define the schema for the DataFrame\n",
    "emp_schema = StructType([\n",
    "    StructField(\"employee_id\", IntegerType(), True),\n",
    "    StructField(\"first_name\", StringType(), True),\n",
    "    StructField(\"last_name\", StringType(), True),\n",
    "    StructField(\"email\", StringType(), True),\n",
    "    StructField(\"phone_number\", StringType(), True),\n",
    "    StructField(\"hire_date\", DateType(), True),\n",
    "    StructField(\"job_id\", StringType(), True),\n",
    "    StructField(\"salary\", IntegerType(), True),\n",
    "    StructField(\"commission_pct\", IntegerType(), True),\n",
    "    StructField(\"manager_id\", IntegerType(), True),\n",
    "    StructField(\"department_id\", IntegerType(), True)\n",
    "])\n",
    "\n",
    "# Create a list of tuples with the data\n",
    "emp_data = [\n",
    "    (100, 'Steven', 'King', 'SKING', '515.123.4567', datetime.strptime('1987-06-17', '%Y-%m-%d').date(), 'AD_PRES', 24000, None, None, 20),\n",
    "    (101, 'Neena', 'Kochhar', 'NKOCHHAR', '515.123.4568', datetime.strptime('1989-11-21', '%Y-%m-%d').date(), 'AD_VP', 17000, None, 100, 20),\n",
    "    (102, 'Lex', 'De Haan', 'LDEHAAN', '515.123.4569', datetime.strptime('1993-09-12', '%Y-%m-%d').date(), 'AD_VP', 17000, None, 100, 30),\n",
    "    (103, 'Alexander', 'Hunold', 'AHUNOLD', '590.423.4567', datetime.strptime('1990-09-30', '%Y-%m-%d').date(), 'IT_PROG', 9000, None, 102, 60),\n",
    "    (104, 'Bruce', 'Ernst', 'BERNST', '590.423.4568', datetime.strptime('1991-05-21', '%Y-%m-%d').date(), 'IT_PROG', 6000, None, 103, 60),\n",
    "    (105, 'David', 'Austin', 'DAUSTIN', '590.423.4569', datetime.strptime('1997-06-25', '%Y-%m-%d').date(), 'IT_PROG', 4800, None, 103, 60),\n",
    "    (106, 'Valli', 'Pataballa', 'VPATABAL', '590.423.4560', datetime.strptime('1998-02-05', '%Y-%m-%d').date(), 'IT_PROG', 4800, None, 103, 40),\n",
    "    (107, 'Diana', 'Lorentz', 'DLORENTZ', '590.423.5567', datetime.strptime('1999-02-09', '%Y-%m-%d').date(), 'IT_PROG', 4200, None, 103, 40),\n",
    "    (108, 'Nancy', 'Greenberg', 'NGREENBE', '515.124.4569', datetime.strptime('1994-08-17', '%Y-%m-%d').date(), 'FI_MGR', 12000, None, 101, 100),\n",
    "    (109, 'Daniel', 'Faviet', 'DFAVIET', '515.124.4169', datetime.strptime('1994-08-12', '%Y-%m-%d').date(), 'FI_ACCOUNT', 9000, None, 108, 170),\n",
    "    (110, 'John', 'Chen', 'JCHEN', '515.124.4269', datetime.strptime('1997-04-09', '%Y-%m-%d').date(), 'FI_ACCOUNT', 8200, None, 108, 170),\n",
    "    (111, 'Ismael', 'Sciarra', 'ISCIARRA', '515.124.4369', datetime.strptime('1997-02-01', '%Y-%m-%d').date(), 'FI_ACCOUNT', 7700, None, 108, 160),\n",
    "    (112, 'Jose Manuel', 'Urman', 'JMURMAN', '515.124.4469', datetime.strptime('1998-06-03', '%Y-%m-%d').date(), 'FI_ACCOUNT', 7800, None, 108, 150),\n",
    "    (113, 'Luis', 'Popp', 'LPOPP', '515.124.4567', datetime.strptime('1999-12-07', '%Y-%m-%d').date(), 'FI_ACCOUNT', 6900, None, 108, 140),\n",
    "    (114, 'Den', 'Raphaely', 'DRAPHEAL', '515.127.4561', datetime.strptime('1994-11-08', '%Y-%m-%d').date(), 'PU_MAN', 11000, None, 100, 30),\n",
    "    (115, 'Alexander', 'Khoo', 'AKHOO', '515.127.4562', datetime.strptime('1995-05-12', '%Y-%m-%d').date(), 'PU_CLERK', 3100, None, 114, 80),\n",
    "    (116, 'Shelli', 'Baida', 'SBAIDA', '515.127.4563', datetime.strptime('1997-12-13', '%Y-%m-%d').date(), 'PU_CLERK', 2900, None, 114, 70),\n",
    "    (117, 'Sigal', 'Tobias', 'STOBIAS', '515.127.4564', datetime.strptime('1997-09-10', '%Y-%m-%d').date(), 'PU_CLERK', 2800, None, 114, 30),\n",
    "    (118, 'Guy', 'Himuro', 'GHIMURO', '515.127.4565', datetime.strptime('1998-01-02', '%Y-%m-%d').date(), 'PU_CLERK', 2600, None, 114, 60),\n",
    "    (119, 'Karen', 'Colmenares', 'KCOLMENA', '515.127.4566', datetime.strptime('1999-04-08', '%Y-%m-%d').date(), 'PU_CLERK', 2500, None, 114, 130),\n",
    "    (120, 'Matthew', 'Weiss', 'MWEISS', '650.123.1234', datetime.strptime('1996-07-18', '%Y-%m-%d').date(), 'ST_MAN', 8000, None, 100, 50),\n",
    "    (121, 'Adam', 'Fripp', 'AFRIPP', '650.123.2234', datetime.strptime('1997-08-09', '%Y-%m-%d').date(), 'ST_MAN', 8200, None, 100, 50),\n",
    "    (122, 'Payam', 'Kaufling', 'PKAUFLIN', '650.123.3234', datetime.strptime('1995-05-01', '%Y-%m-%d').date(), 'ST_MAN', 7900, None, 100, 40),\n",
    "    (123, 'Shanta', 'Vollman', 'SVOLLMAN', '650.123.4234', datetime.strptime('1997-10-12', '%Y-%m-%d').date(), 'ST_MAN', 6500, None, 100, 50),\n",
    "    (124, 'Kevin', 'Mourgos', 'KMOURGOS', '650.123.5234', datetime.strptime('1999-11-12', '%Y-%m-%d').date(), 'ST_MAN', 5800, None, 100, 80),\n",
    "    (125, 'Julia', 'Nayer', 'JNAYER', '650.124.1214', datetime.strptime('1997-07-02', '%Y-%m-%d').date(), 'ST_CLERK', 3200, None, 120, 50),\n",
    "    (126, 'Irene', 'Mikkilineni', 'IMIKKILI', '650.124.1224', datetime.strptime('1998-11-12', '%Y-%m-%d').date(), 'ST_CLERK', 2700, None, 120, 50),\n",
    "    (127, 'James', 'Landry', 'JLANDRY', '650.124.1334', datetime.strptime('1999-01-02', '%Y-%m-%d').date(), 'ST_CLERK', 2400, None, 120, 90),\n",
    "    (128, 'Steven', 'Markle', 'SMARKLE', '650.124.1434', datetime.strptime('2000-03-04', '%Y-%m-%d').date(), 'ST_CLERK', 2200, None, 120, 50),\n",
    "    (129, 'Laura', 'Bissot', 'LBISSOT', '650.124.5234', datetime.strptime('1997-09-10', '%Y-%m-%d').date(), 'ST_CLERK', 3300, None, 121, 50),\n",
    "    (130, 'Mozhe', 'Atkinson', 'MATKINSO', '650.124.6234', datetime.strptime('1997-10-12', '%Y-%m-%d').date(), 'ST_CLERK', 2800, None, 121, 110)\n",
    "]\n",
    "\n",
    "# Create a PySpark DataFrame\n",
    "df_employees = spark.createDataFrame(emp_data, schema=emp_schema)\n"
   ]
  },
  {
   "cell_type": "markdown",
   "metadata": {
    "application/vnd.databricks.v1+cell": {
     "cellMetadata": {},
     "inputWidgets": {},
     "nuid": "e76d862b-2764-405e-b747-ba0165a21158",
     "showTitle": false,
     "title": ""
    }
   },
   "source": [
    "- #### 1. Select employees first name, last name, job_id and salary whose first name starts with alphabet S\n"
   ]
  },
  {
   "cell_type": "code",
   "execution_count": 0,
   "metadata": {
    "application/vnd.databricks.v1+cell": {
     "cellMetadata": {
      "byteLimit": 2048000,
      "rowLimit": 10000
     },
     "inputWidgets": {},
     "nuid": "e7e9e4aa-630a-4eac-adf6-a9d52591fd0b",
     "showTitle": false,
     "title": ""
    }
   },
   "outputs": [
    {
     "output_type": "stream",
     "name": "stdout",
     "output_type": "stream",
     "text": [
      "+----------+---------+--------+------+\n|first_name|last_name|  job_id|salary|\n+----------+---------+--------+------+\n|    Steven|     King| AD_PRES| 24000|\n|    Shelli|    Baida|PU_CLERK|  2900|\n|     Sigal|   Tobias|PU_CLERK|  2800|\n|    Shanta|  Vollman|  ST_MAN|  6500|\n|    Steven|   Markle|ST_CLERK|  2200|\n+----------+---------+--------+------+\n\n"
     ]
    }
   ],
   "source": [
    "result = (\n",
    "  df_employees.filter(F.col('first_name')\n",
    "    .like('S%'))\n",
    "    .select('first_name', 'last_name', 'job_id', 'salary')\n",
    ").show()"
   ]
  },
  {
   "cell_type": "markdown",
   "metadata": {
    "application/vnd.databricks.v1+cell": {
     "cellMetadata": {
      "byteLimit": 2048000,
      "rowLimit": 10000
     },
     "inputWidgets": {},
     "nuid": "db170fec-203a-4c09-ab83-f29475034e97",
     "showTitle": false,
     "title": ""
    }
   },
   "source": [
    "- #### 2 - Write a query to select employee with the highest salary"
   ]
  },
  {
   "cell_type": "code",
   "execution_count": 0,
   "metadata": {
    "application/vnd.databricks.v1+cell": {
     "cellMetadata": {
      "byteLimit": 2048000,
      "rowLimit": 10000
     },
     "inputWidgets": {},
     "nuid": "45432a0f-cacb-44af-8f6f-9590fcf38dbb",
     "showTitle": false,
     "title": ""
    }
   },
   "outputs": [
    {
     "output_type": "stream",
     "name": "stdout",
     "output_type": "stream",
     "text": [
      "+-----------+----------+---------+------+\n|employee_id|first_name|last_name|salary|\n+-----------+----------+---------+------+\n|        100|    Steven|     King| 24000|\n+-----------+----------+---------+------+\n\n"
     ]
    }
   ],
   "source": [
    "windowSpec = Window.orderBy(F.desc('salary'))\n",
    "result = (\n",
    "    df_employees.withColumn('rnk', F.dense_rank().over(windowSpec))\n",
    "    .filter(F.col('rnk') == 1)\n",
    "    .select('employee_id', 'first_name', 'last_name', 'salary')\n",
    ").show()"
   ]
  },
  {
   "cell_type": "markdown",
   "metadata": {
    "application/vnd.databricks.v1+cell": {
     "cellMetadata": {
      "byteLimit": 2048000,
      "rowLimit": 10000
     },
     "inputWidgets": {},
     "nuid": "89778524-ca40-4ac4-b18a-ab05cecd6195",
     "showTitle": false,
     "title": ""
    }
   },
   "source": [
    "- #### 3 - Select employee with the second highest salary"
   ]
  },
  {
   "cell_type": "code",
   "execution_count": 0,
   "metadata": {
    "application/vnd.databricks.v1+cell": {
     "cellMetadata": {
      "byteLimit": 2048000,
      "rowLimit": 10000
     },
     "inputWidgets": {},
     "nuid": "500fded7-1507-477e-949d-fdf27f38d260",
     "showTitle": false,
     "title": ""
    }
   },
   "outputs": [],
   "source": [
    "windowSpec = Window.orderBy(F.desc('salary'))\n",
    "result = (\n",
    "    df_employees.withColumn('rnk', F.dense_rank().over(windowSpec))\n",
    "    .filter(F.col('rnk') == 2)\n",
    "    .select('employee_id', 'first_name', 'last_name', 'salary')\n",
    ").show()"
   ]
  },
  {
   "cell_type": "markdown",
   "metadata": {
    "application/vnd.databricks.v1+cell": {
     "cellMetadata": {},
     "inputWidgets": {},
     "nuid": "c3223270-1e72-40e6-9202-56c7176149bb",
     "showTitle": false,
     "title": ""
    }
   },
   "source": [
    "- #### 4 - Fetch employees with nth highest salary"
   ]
  },
  {
   "cell_type": "code",
   "execution_count": 0,
   "metadata": {
    "application/vnd.databricks.v1+cell": {
     "cellMetadata": {
      "byteLimit": 2048000,
      "rowLimit": 10000
     },
     "inputWidgets": {},
     "nuid": "5324c92d-3a68-45f8-b52c-0b1c3750a1af",
     "showTitle": false,
     "title": ""
    }
   },
   "outputs": [
    {
     "output_type": "stream",
     "name": "stdout",
     "output_type": "stream",
     "text": [
      "+-----------+----------+---------+------+\n|employee_id|first_name|last_name|salary|\n+-----------+----------+---------+------+\n|        101|     Neena|  Kochhar| 17000|\n|        102|       Lex|  De Haan| 17000|\n+-----------+----------+---------+------+\n\n+-----------+----------+---------+------+\n|employee_id|first_name|last_name|salary|\n+-----------+----------+---------+------+\n|        108|     Nancy|Greenberg| 12000|\n+-----------+----------+---------+------+\n\n"
     ]
    }
   ],
   "source": [
    "def get_top_ranked_employees(rank):\n",
    "    windowSpec = Window.orderBy(F.desc('salary'))\n",
    "    result = (\n",
    "        df_employees.withColumn('rnk', F.dense_rank().over(windowSpec))\n",
    "        .filter(F.col('rnk') == rank)\n",
    "        .select('employee_id', 'first_name', 'last_name', 'salary')\n",
    "    )\n",
    "    return result\n",
    "\n",
    "# Example: Get the second-highest salary employee\n",
    "rank_2_result = get_top_ranked_employees(2)\n",
    "rank_2_result.show()\n",
    "\n",
    "# Example: Get the third-highest salary employee\n",
    "rank_3_result = get_top_ranked_employees(3)\n",
    "rank_3_result.show()"
   ]
  },
  {
   "cell_type": "markdown",
   "metadata": {
    "application/vnd.databricks.v1+cell": {
     "cellMetadata": {},
     "inputWidgets": {},
     "nuid": "64e5b414-2896-4a0d-b8b8-db2056ad0260",
     "showTitle": false,
     "title": ""
    }
   },
   "source": [
    "- #### 5 - Write a query to select employees and their corresponding managers and their salaries"
   ]
  },
  {
   "cell_type": "code",
   "execution_count": 0,
   "metadata": {
    "application/vnd.databricks.v1+cell": {
     "cellMetadata": {
      "byteLimit": 2048000,
      "rowLimit": 10000
     },
     "inputWidgets": {},
     "nuid": "e7a4dba0-1f66-4913-96b2-ffec82c79400",
     "showTitle": false,
     "title": ""
    }
   },
   "outputs": [
    {
     "output_type": "stream",
     "name": "stdout",
     "output_type": "stream",
     "text": [
      "+----------------+----------+-------------+--------------+\n|        emp_name|emp_salary| manager_name|manager_salary|\n+----------------+----------+-------------+--------------+\n|   Neena Kochhar|     17000|  Steven King|         24000|\n|     Lex De Haan|     17000|  Steven King|         24000|\n|    Den Raphaely|     11000|  Steven King|         24000|\n|   Matthew Weiss|      8000|  Steven King|         24000|\n|      Adam Fripp|      8200|  Steven King|         24000|\n|  Payam Kaufling|      7900|  Steven King|         24000|\n|  Shanta Vollman|      6500|  Steven King|         24000|\n|   Kevin Mourgos|      5800|  Steven King|         24000|\n| Nancy Greenberg|     12000|Neena Kochhar|         17000|\n|Alexander Hunold|      9000|  Lex De Haan|         17000|\n+----------------+----------+-------------+--------------+\nonly showing top 10 rows\n\n"
     ]
    }
   ],
   "source": [
    "# Alias for the first instance of the DataFrame\n",
    "emp_df = df_employees.alias(\"emp_df\")\n",
    "\n",
    "# Alias for the second instance of the DataFrame\n",
    "mgr_df = df_employees.alias(\"mgr_df\")\n",
    "\n",
    "joined_df = emp_df.join(mgr_df, F.col('emp_df.manager_id') == F.col('mgr_df.employee_id'), 'inner')\n",
    "\n",
    "result = (\n",
    "    joined_df.select(F.concat('emp_df.first_name', F.lit(' '), 'emp_df.last_name').alias('emp_name'), F.col('emp_df.salary').alias('emp_salary'), F.concat('mgr_df.first_name', F.lit(' '), 'mgr_df.last_name').alias('manager_name'), F.col('mgr_df.salary').alias('manager_salary'))\n",
    ").show(10)"
   ]
  },
  {
   "cell_type": "markdown",
   "metadata": {
    "application/vnd.databricks.v1+cell": {
     "cellMetadata": {},
     "inputWidgets": {},
     "nuid": "7a1a688a-46f9-49a4-9ddd-3d817300cd78",
     "showTitle": false,
     "title": ""
    }
   },
   "source": [
    "- #### 6 - Write a query to show count of employees under each manager in descending order\n"
   ]
  },
  {
   "cell_type": "code",
   "execution_count": 0,
   "metadata": {
    "application/vnd.databricks.v1+cell": {
     "cellMetadata": {
      "byteLimit": 2048000,
      "rowLimit": 10000
     },
     "inputWidgets": {},
     "nuid": "ebd90379-5e5f-4ff8-a4f8-da0ad0abd9f7",
     "showTitle": false,
     "title": ""
    }
   },
   "outputs": [
    {
     "output_type": "stream",
     "name": "stdout",
     "output_type": "stream",
     "text": [
      "+----------------+--------------+\n|         manager|reportee_count|\n+----------------+--------------+\n|     Steven King|             8|\n| Nancy Greenberg|             5|\n|    Den Raphaely|             5|\n|   Matthew Weiss|             4|\n|Alexander Hunold|             4|\n|      Adam Fripp|             2|\n|     Lex De Haan|             1|\n|   Neena Kochhar|             1|\n+----------------+--------------+\n\n"
     ]
    }
   ],
   "source": [
    "# Alias for the first instance of the DataFrame\n",
    "emp_df = df_employees.alias(\"emp_df\")\n",
    "\n",
    "# Alias for the second instance of the DataFrame\n",
    "mgr_df = df_employees.alias(\"mgr_df\")\n",
    "\n",
    "joined_df = mgr_df.join(emp_df, F.col('emp_df.manager_id') == F.col('mgr_df.employee_id'), 'inner')\n",
    "\n",
    "result = (\n",
    "    joined_df.groupBy(F.concat('mgr_df.first_name', F.lit(' '), 'mgr_df.last_name').alias('manager'))\n",
    "        .agg(F.count(F.col('emp_df.employee_id')).alias('reportee_count'))\n",
    "            .orderBy(F.desc('reportee_count'))\n",
    ").show()"
   ]
  },
  {
   "cell_type": "markdown",
   "metadata": {
    "application/vnd.databricks.v1+cell": {
     "cellMetadata": {},
     "inputWidgets": {},
     "nuid": "e2cd31a2-25eb-450e-8bf5-ea9e3b29f5f5",
     "showTitle": false,
     "title": ""
    }
   },
   "source": [
    "- #### 7. Find the count of employees in each department"
   ]
  },
  {
   "cell_type": "code",
   "execution_count": 0,
   "metadata": {
    "application/vnd.databricks.v1+cell": {
     "cellMetadata": {
      "byteLimit": 2048000,
      "rowLimit": 10000
     },
     "inputWidgets": {},
     "nuid": "ae9bec5c-b581-40be-b652-5813290ad64f",
     "showTitle": false,
     "title": ""
    }
   },
   "outputs": [
    {
     "output_type": "stream",
     "name": "stdout",
     "output_type": "stream",
     "text": [
      "+--------------------+---------+\n|     department_name|emp_count|\n+--------------------+---------+\n|            Shipping|        7|\n|                  IT|        4|\n|          Purchasing|        3|\n|     Human Resources|        3|\n|           Marketing|        2|\n|               Sales|        2|\n|             Payroll|        2|\n|    Public Relations|        1|\n|           Executive|        1|\n|          Accounting|        1|\n|             Finance|        1|\n|       Corporate Tax|        1|\n|Shareholder Services|        1|\n|  Control And Credit|        1|\n|            Benefits|        1|\n|            Treasury|        0|\n+--------------------+---------+\n\n"
     ]
    }
   ],
   "source": [
    "joined_df = df_dept.join(df_employees, df_employees['department_id'] == df_dept['department_id'], 'left')\n",
    "\n",
    "result = (\n",
    "    joined_df.groupBy(df_dept['department_name'])\n",
    "        .agg(F.count(df_employees['employee_id']).alias('emp_count'))\n",
    "            .orderBy(F.desc('emp_count'))\n",
    ").show()"
   ]
  },
  {
   "cell_type": "markdown",
   "metadata": {
    "application/vnd.databricks.v1+cell": {
     "cellMetadata": {},
     "inputWidgets": {},
     "nuid": "fa0a00b1-7fb2-4534-a205-288eb9d9af87",
     "showTitle": false,
     "title": ""
    }
   },
   "source": [
    "\n",
    "- #### 8. Get the count of employees hired year wise"
   ]
  },
  {
   "cell_type": "code",
   "execution_count": 0,
   "metadata": {
    "application/vnd.databricks.v1+cell": {
     "cellMetadata": {
      "byteLimit": 2048000,
      "rowLimit": 10000
     },
     "inputWidgets": {},
     "nuid": "b5bba67c-052e-49c9-aa59-550d7232a8b9",
     "showTitle": false,
     "title": ""
    }
   },
   "outputs": [
    {
     "output_type": "stream",
     "name": "stdout",
     "output_type": "stream",
     "text": [
      "+---------+--------------+\n|hire year|employee count|\n+---------+--------------+\n|     1987|             1|\n|     1989|             1|\n|     1990|             1|\n|     1991|             1|\n|     1993|             1|\n|     1994|             3|\n|     1995|             2|\n|     1996|             1|\n|     1997|            10|\n|     1998|             4|\n|     1999|             5|\n|     2000|             1|\n+---------+--------------+\n\n"
     ]
    }
   ],
   "source": [
    "result = (\n",
    "    df_employees.groupBy(F.year('hire_date').alias('hire year'))\n",
    "        .agg(F.count('employee_id').alias('employee count'))\n",
    "            .orderBy('hire year')\n",
    ").show()"
   ]
  },
  {
   "cell_type": "markdown",
   "metadata": {
    "application/vnd.databricks.v1+cell": {
     "cellMetadata": {},
     "inputWidgets": {},
     "nuid": "6f39e570-8ce6-4d8a-9297-27ad1bcf5e19",
     "showTitle": false,
     "title": ""
    }
   },
   "source": [
    "- #### 9. Find the salary range of employees"
   ]
  },
  {
   "cell_type": "code",
   "execution_count": 0,
   "metadata": {
    "application/vnd.databricks.v1+cell": {
     "cellMetadata": {
      "byteLimit": 2048000,
      "rowLimit": 10000
     },
     "inputWidgets": {},
     "nuid": "1aa2bfa3-55a2-49d4-a0d1-ed9c6a373a5c",
     "showTitle": false,
     "title": ""
    }
   },
   "outputs": [
    {
     "output_type": "stream",
     "name": "stdout",
     "output_type": "stream",
     "text": [
      "+----------+----------+----------+\n|max salary|min salary|avg salary|\n+----------+----------+----------+\n|     24000|      2200|    6977.0|\n+----------+----------+----------+\n\n"
     ]
    }
   ],
   "source": [
    "result = (\n",
    "    df_employees.select(F.max('salary').alias('max salary'), \n",
    "        F.min('salary').alias('min salary'), \n",
    "        F.round(F.avg('salary')).alias('avg salary'))\n",
    ").show()"
   ]
  },
  {
   "cell_type": "markdown",
   "metadata": {
    "application/vnd.databricks.v1+cell": {
     "cellMetadata": {},
     "inputWidgets": {},
     "nuid": "5a40220f-4120-423d-a314-e1c9a7dfc4bf",
     "showTitle": false,
     "title": ""
    }
   },
   "source": [
    "- #### 10. Write a query to divide people into three groups based on their salaries"
   ]
  },
  {
   "cell_type": "code",
   "execution_count": 0,
   "metadata": {
    "application/vnd.databricks.v1+cell": {
     "cellMetadata": {
      "byteLimit": 2048000,
      "rowLimit": 10000
     },
     "inputWidgets": {},
     "nuid": "95c9eee3-7658-492e-ad2b-0583502d0efa",
     "showTitle": false,
     "title": ""
    }
   },
   "outputs": [
    {
     "output_type": "stream",
     "name": "stdout",
     "output_type": "stream",
     "text": [
      "+-----------+-----------+------+------------+------------+\n| first_name|  last_name|salary|salary_group|salary_group|\n+-----------+-----------+------+------------+------------+\n|     Steven|     Markle|  2200|         low|         low|\n|      James|     Landry|  2400|         low|         low|\n|      Karen| Colmenares|  2500|         low|         low|\n|        Guy|     Himuro|  2600|         low|         low|\n|      Irene|Mikkilineni|  2700|         low|         low|\n|      Sigal|     Tobias|  2800|         low|         low|\n|      Mozhe|   Atkinson|  2800|         low|         low|\n|     Shelli|      Baida|  2900|         low|         low|\n|  Alexander|       Khoo|  3100|         low|         low|\n|      Julia|      Nayer|  3200|         low|         low|\n|      Laura|     Bissot|  3300|         low|         low|\n|      Diana|    Lorentz|  4200|         low|         low|\n|      David|     Austin|  4800|         low|         low|\n|      Valli|  Pataballa|  4800|         low|         low|\n|      Kevin|    Mourgos|  5800|         mid|         mid|\n|      Bruce|      Ernst|  6000|         mid|         mid|\n|     Shanta|    Vollman|  6500|         mid|         mid|\n|       Luis|       Popp|  6900|         mid|         mid|\n|     Ismael|    Sciarra|  7700|         mid|         mid|\n|Jose Manuel|      Urman|  7800|         mid|         mid|\n+-----------+-----------+------+------------+------------+\nonly showing top 20 rows\n\n"
     ]
    }
   ],
   "source": [
    "# Define the salary thresholds for the three groups\n",
    "thresholds = [2000, 5000, 10000]\n",
    "\n",
    "# Create a User-Defined Function (UDF) to categorize salaries into groups\n",
    "def categorize_salary(salary):\n",
    "    if salary >= thresholds[0] and salary < thresholds[1]:\n",
    "        return 'low'\n",
    "    elif salary >= thresholds[1] and  salary < thresholds[2]:\n",
    "        return 'mid'\n",
    "    else:\n",
    "        return 'high'\n",
    "\n",
    "# Register the UDF\n",
    "categorize_salary_udf = F.udf(categorize_salary, StringType())\n",
    "\n",
    "# Add a new column to the DataFrame indicating the salary group\n",
    "df_employees = df_employees.withColumn(\"salary_group\", categorize_salary_udf(F.col('salary')))\n",
    "\n",
    "# Show the DataFrame with the new column\n",
    "df_employees.select('first_name', 'last_name', 'salary', 'salary_group', 'salary_group').orderBy('salary').show()"
   ]
  },
  {
   "cell_type": "markdown",
   "metadata": {
    "application/vnd.databricks.v1+cell": {
     "cellMetadata": {},
     "inputWidgets": {},
     "nuid": "2e6ab65e-fa5f-4aed-955a-aedab1e3b1a4",
     "showTitle": false,
     "title": ""
    }
   },
   "source": [
    "- #### 11 - Select the employees whose first_name contains “an”"
   ]
  },
  {
   "cell_type": "code",
   "execution_count": 0,
   "metadata": {
    "application/vnd.databricks.v1+cell": {
     "cellMetadata": {
      "byteLimit": 2048000,
      "rowLimit": 10000
     },
     "inputWidgets": {},
     "nuid": "80ae10d6-fb7c-4cee-85ac-766ee09ceb6d",
     "showTitle": false,
     "title": ""
    }
   },
   "outputs": [
    {
     "output_type": "stream",
     "name": "stdout",
     "output_type": "stream",
     "text": [
      "+-----------+---------+\n| first_name|last_name|\n+-----------+---------+\n|  Alexander|   Hunold|\n|      Diana|  Lorentz|\n|      Nancy|Greenberg|\n|     Daniel|   Faviet|\n|Jose Manuel|    Urman|\n|  Alexander|     Khoo|\n|     Shanta|  Vollman|\n+-----------+---------+\n\n"
     ]
    }
   ],
   "source": [
    "result = (\n",
    "  df_employees.filter(F.col('first_name').like('%an%'))\n",
    "    .select('first_name', 'last_name')\n",
    ").show()"
   ]
  },
  {
   "cell_type": "markdown",
   "metadata": {
    "application/vnd.databricks.v1+cell": {
     "cellMetadata": {},
     "inputWidgets": {},
     "nuid": "fa06b8a1-13fe-4004-ae10-b5ac89c34a3b",
     "showTitle": false,
     "title": ""
    }
   },
   "source": [
    "- #### 12 - Select employee first name and the corresponding phone number in the format (_ _ _)-(_ _ _)-(_ _ _ _)"
   ]
  },
  {
   "cell_type": "code",
   "execution_count": 0,
   "metadata": {
    "application/vnd.databricks.v1+cell": {
     "cellMetadata": {
      "byteLimit": 2048000,
      "rowLimit": 10000
     },
     "inputWidgets": {},
     "nuid": "bab6de50-1fe7-41f5-9f66-72d4940c066e",
     "showTitle": false,
     "title": ""
    }
   },
   "outputs": [
    {
     "output_type": "stream",
     "name": "stdout",
     "output_type": "stream",
     "text": [
      "+----------------+------------+\n|        emp name|  phn number|\n+----------------+------------+\n|     Steven King|515-123-4567|\n|   Neena Kochhar|515-123-4568|\n|     Lex De Haan|515-123-4569|\n|Alexander Hunold|590-423-4567|\n|     Bruce Ernst|590-423-4568|\n|    David Austin|590-423-4569|\n| Valli Pataballa|590-423-4560|\n|   Diana Lorentz|590-423-5567|\n| Nancy Greenberg|515-124-4569|\n|   Daniel Faviet|515-124-4169|\n+----------------+------------+\nonly showing top 10 rows\n\n"
     ]
    }
   ],
   "source": [
    "result = (\n",
    "    df_employees.select(F.concat(('first_name'), F.lit(' '), 'last_name').alias('emp name'), F.regexp_replace('phone_number', '\\.', '-').alias('phn number'))\n",
    ").show(10)"
   ]
  },
  {
   "cell_type": "markdown",
   "metadata": {
    "application/vnd.databricks.v1+cell": {
     "cellMetadata": {},
     "inputWidgets": {},
     "nuid": "090d18cc-764d-4550-b48c-05e30013d1bd",
     "showTitle": false,
     "title": ""
    }
   },
   "source": [
    "- #### 13. Find the employees who joined in August, 1994."
   ]
  },
  {
   "cell_type": "code",
   "execution_count": 0,
   "metadata": {
    "application/vnd.databricks.v1+cell": {
     "cellMetadata": {
      "byteLimit": 2048000,
      "rowLimit": 10000
     },
     "inputWidgets": {},
     "nuid": "5ace929c-e7a0-4bad-b99a-1448b32b6085",
     "showTitle": false,
     "title": ""
    }
   },
   "outputs": [
    {
     "output_type": "stream",
     "name": "stdout",
     "output_type": "stream",
     "text": [
      "+---------------+----------+\n|       emp_name| hire_date|\n+---------------+----------+\n|Nancy Greenberg|1994-08-17|\n|  Daniel Faviet|1994-08-12|\n+---------------+----------+\n\n"
     ]
    }
   ],
   "source": [
    "    result = (\n",
    "        df_employees.filter((F.year('hire_date') == 1994) & (F.month('hire_date') == 8))\n",
    "            .select(F.concat('first_name', F.lit(' '), 'last_name').alias('emp_name'), 'hire_date')\n",
    "    ).show()"
   ]
  },
  {
   "cell_type": "markdown",
   "metadata": {
    "application/vnd.databricks.v1+cell": {
     "cellMetadata": {},
     "inputWidgets": {},
     "nuid": "5946c641-4f54-4274-a110-93da2818a18f",
     "showTitle": false,
     "title": ""
    }
   },
   "source": [
    "- #### 14 - display employees who earn more than the average salary in that company\n"
   ]
  },
  {
   "cell_type": "code",
   "execution_count": 0,
   "metadata": {
    "application/vnd.databricks.v1+cell": {
     "cellMetadata": {
      "byteLimit": 2048000,
      "rowLimit": 10000
     },
     "inputWidgets": {},
     "nuid": "de4c7c6a-6575-4d7a-91fd-1ea309012112",
     "showTitle": false,
     "title": ""
    }
   },
   "outputs": [
    {
     "output_type": "stream",
     "name": "stdout",
     "output_type": "stream",
     "text": [
      "+-----------+---------+------+\n| first_name|last_name|salary|\n+-----------+---------+------+\n|     Steven|     King| 24000|\n|      Neena|  Kochhar| 17000|\n|        Lex|  De Haan| 17000|\n|  Alexander|   Hunold|  9000|\n|      Nancy|Greenberg| 12000|\n|     Daniel|   Faviet|  9000|\n|       John|     Chen|  8200|\n|     Ismael|  Sciarra|  7700|\n|Jose Manuel|    Urman|  7800|\n|        Den| Raphaely| 11000|\n|    Matthew|    Weiss|  8000|\n|       Adam|    Fripp|  8200|\n|      Payam| Kaufling|  7900|\n+-----------+---------+------+\n\n"
     ]
    }
   ],
   "source": [
    "average_salary = df_employees.select(F.avg('salary').alias(\"avg_salary\")).first()[\"avg_salary\"]\n",
    "result = (\n",
    "    df_employees.filter(F.col('salary') >  average_salary)\n",
    "        .select('first_name', 'last_name', 'salary')\n",
    ").show()"
   ]
  },
  {
   "cell_type": "markdown",
   "metadata": {
    "application/vnd.databricks.v1+cell": {
     "cellMetadata": {},
     "inputWidgets": {},
     "nuid": "8127e138-08fc-4538-9f64-55a185562973",
     "showTitle": false,
     "title": ""
    }
   },
   "source": [
    "- #### 15 - Find the maximum salary from each department."
   ]
  },
  {
   "cell_type": "code",
   "execution_count": 0,
   "metadata": {
    "application/vnd.databricks.v1+cell": {
     "cellMetadata": {
      "byteLimit": 2048000,
      "rowLimit": 10000
     },
     "inputWidgets": {},
     "nuid": "a8493382-5eef-4e72-a01a-2fb8b72396bd",
     "showTitle": false,
     "title": ""
    }
   },
   "outputs": [
    {
     "output_type": "stream",
     "name": "stdout",
     "output_type": "stream",
     "text": [
      "+--------------------+---------------+\n|     department_name|dept max salary|\n+--------------------+---------------+\n|          Purchasing|          17000|\n|           Marketing|          24000|\n|                  IT|           9000|\n|             Payroll|           9000|\n|             Finance|          12000|\n|            Benefits|           7700|\n|     Human Resources|           7900|\n|Shareholder Services|           7800|\n|  Control And Credit|           6900|\n|               Sales|           5800|\n|    Public Relations|           2900|\n|       Corporate Tax|           2500|\n|            Shipping|           8200|\n|          Accounting|           2800|\n|           Executive|           2400|\n+--------------------+---------------+\n\n"
     ]
    }
   ],
   "source": [
    "joined_df = df_employees.join(\n",
    "    df_dept, df_employees.department_id == df_dept.department_id, \"left\"\n",
    ")\n",
    "result = (\n",
    "    joined_df.groupBy(\"department_name\").agg(F.max(\"salary\").alias(\"dept max salary\"))\n",
    ").show()"
   ]
  },
  {
   "cell_type": "markdown",
   "metadata": {
    "application/vnd.databricks.v1+cell": {
     "cellMetadata": {},
     "inputWidgets": {},
     "nuid": "a223f5eb-8e72-4ba5-928e-f87011c36e22",
     "showTitle": false,
     "title": ""
    }
   },
   "source": [
    "- #### 16 - Display the 5 least earning employees"
   ]
  },
  {
   "cell_type": "code",
   "execution_count": 0,
   "metadata": {
    "application/vnd.databricks.v1+cell": {
     "cellMetadata": {
      "byteLimit": 2048000,
      "rowLimit": 10000
     },
     "inputWidgets": {},
     "nuid": "f627035d-cad0-49b7-ad22-ed01f260ebff",
     "showTitle": false,
     "title": ""
    }
   },
   "outputs": [
    {
     "output_type": "stream",
     "name": "stdout",
     "output_type": "stream",
     "text": [
      "+----------+-----------+------+\n|first_name|  last_name|salary|\n+----------+-----------+------+\n|    Steven|     Markle|  2200|\n|     James|     Landry|  2400|\n|     Karen| Colmenares|  2500|\n|       Guy|     Himuro|  2600|\n|     Irene|Mikkilineni|  2700|\n+----------+-----------+------+\n\n"
     ]
    }
   ],
   "source": [
    "result = (\n",
    "    df_employees.select('first_name', 'last_name', 'salary')\n",
    "        .orderBy(F.asc('salary'))\n",
    "          .limit(5)\n",
    ").show()"
   ]
  },
  {
   "cell_type": "markdown",
   "metadata": {
    "application/vnd.databricks.v1+cell": {
     "cellMetadata": {},
     "inputWidgets": {},
     "nuid": "6a058575-e084-4c52-9b2b-952a51b45798",
     "showTitle": false,
     "title": ""
    }
   },
   "source": [
    "- #### 17 - Find the employees hired in the 80s"
   ]
  },
  {
   "cell_type": "code",
   "execution_count": 0,
   "metadata": {
    "application/vnd.databricks.v1+cell": {
     "cellMetadata": {
      "byteLimit": 2048000,
      "rowLimit": 10000
     },
     "inputWidgets": {},
     "nuid": "8589b4cb-7c3e-469d-a784-b0dcd059f468",
     "showTitle": false,
     "title": ""
    }
   },
   "outputs": [
    {
     "output_type": "stream",
     "name": "stdout",
     "output_type": "stream",
     "text": [
      "+----------+---------+----------+\n|first_name|last_name| hire_date|\n+----------+---------+----------+\n|    Steven|     King|1987-06-17|\n|     Neena|  Kochhar|1989-11-21|\n+----------+---------+----------+\n\n"
     ]
    }
   ],
   "source": [
    "result = (\n",
    "    df_employees.select('first_name', 'last_name', 'hire_date')\n",
    "        .filter(F.year('hire_date')\n",
    "            .between(1980, 1989))\n",
    ").show()"
   ]
  },
  {
   "cell_type": "markdown",
   "metadata": {
    "application/vnd.databricks.v1+cell": {
     "cellMetadata": {},
     "inputWidgets": {},
     "nuid": "b9dc90b2-3035-486f-a482-1233ff8369e2",
     "showTitle": false,
     "title": ""
    }
   },
   "source": [
    "- ####18 - Display the employees first name and first name in reverse order"
   ]
  },
  {
   "cell_type": "code",
   "execution_count": 0,
   "metadata": {
    "application/vnd.databricks.v1+cell": {
     "cellMetadata": {
      "byteLimit": 2048000,
      "rowLimit": 10000
     },
     "inputWidgets": {},
     "nuid": "17e39426-b0a7-41fb-b2ab-d36430506e74",
     "showTitle": false,
     "title": ""
    }
   },
   "outputs": [
    {
     "output_type": "stream",
     "name": "stdout",
     "output_type": "stream",
     "text": [
      "+----------+-------------+\n|first_name|name reversed|\n+----------+-------------+\n|    Steven|       nevetS|\n|     Neena|        aneeN|\n|       Lex|          xeL|\n| Alexander|    rednaxelA|\n|     Bruce|        ecurB|\n|     David|        divaD|\n|     Valli|        illaV|\n|     Diana|        anaiD|\n|     Nancy|        ycnaN|\n|    Daniel|       leinaD|\n+----------+-------------+\nonly showing top 10 rows\n\n"
     ]
    }
   ],
   "source": [
    "result = (\n",
    "    df_employees.select('first_name', F.reverse('first_name')\n",
    "      .alias('name reversed'))\n",
    ").show(10)"
   ]
  },
  {
   "cell_type": "markdown",
   "metadata": {
    "application/vnd.databricks.v1+cell": {
     "cellMetadata": {},
     "inputWidgets": {},
     "nuid": "88b14c0c-54b9-42ce-a35f-b4e630b8e4f8",
     "showTitle": false,
     "title": ""
    }
   },
   "source": [
    "- #### 19 - Find the employees who joined the company after 15th of the month\n"
   ]
  },
  {
   "cell_type": "code",
   "execution_count": 0,
   "metadata": {
    "application/vnd.databricks.v1+cell": {
     "cellMetadata": {
      "byteLimit": 2048000,
      "rowLimit": 10000
     },
     "inputWidgets": {},
     "nuid": "8bad08ea-725c-42e5-97b9-344915d4b12c",
     "showTitle": false,
     "title": ""
    }
   },
   "outputs": [
    {
     "output_type": "stream",
     "name": "stdout",
     "output_type": "stream",
     "text": [
      "+----------+---------+----------+\n|first_name|last_name| hire_date|\n+----------+---------+----------+\n|    Steven|     King|1987-06-17|\n|     Neena|  Kochhar|1989-11-21|\n| Alexander|   Hunold|1990-09-30|\n|     Bruce|    Ernst|1991-05-21|\n|     David|   Austin|1997-06-25|\n|     Nancy|Greenberg|1994-08-17|\n|   Matthew|    Weiss|1996-07-18|\n+----------+---------+----------+\n\n"
     ]
    }
   ],
   "source": [
    "result = (\n",
    "    df_employees.filter(F.dayofmonth('hire_date') >= 15)\n",
    "    .select('first_name', 'last_name', 'hire_date')\n",
    ").show()"
   ]
  },
  {
   "cell_type": "markdown",
   "metadata": {
    "application/vnd.databricks.v1+cell": {
     "cellMetadata": {},
     "inputWidgets": {},
     "nuid": "fae085d5-0a3f-478c-b475-9384deab938b",
     "showTitle": false,
     "title": ""
    }
   },
   "source": [
    "- #### 20 - Display the managers and the reporting employees who work in different departments"
   ]
  },
  {
   "cell_type": "code",
   "execution_count": 0,
   "metadata": {
    "application/vnd.databricks.v1+cell": {
     "cellMetadata": {
      "byteLimit": 2048000,
      "rowLimit": 10000
     },
     "inputWidgets": {},
     "nuid": "2a525d7a-a81b-4b08-b180-5e3165ba0aab",
     "showTitle": false,
     "title": ""
    }
   },
   "outputs": [
    {
     "output_type": "stream",
     "name": "stdout",
     "output_type": "stream",
     "text": [
      "+------------+-----------------+--------------+-----------------+\n|manager_name|mgr_department_id|      emp name|emp_department_id|\n+------------+-----------------+--------------+-----------------+\n| Steven King|               20|   Lex De Haan|               30|\n| Steven King|               20|  Den Raphaely|               30|\n| Steven King|               20| Matthew Weiss|               50|\n| Steven King|               20|    Adam Fripp|               50|\n| Steven King|               20|Payam Kaufling|               40|\n+------------+-----------------+--------------+-----------------+\nonly showing top 5 rows\n\n"
     ]
    }
   ],
   "source": [
    "# Rename columns in the first DataFrame\n",
    "emp_df = (\n",
    "    df_employees.withColumnRenamed(\"department_id\", \"emp_department_id\")\n",
    "                .withColumnRenamed('first_name', 'emp_first_name')\n",
    "                .withColumnRenamed('last_name', 'emp_last_name')\n",
    "                .withColumnRenamed('department_id', 'emp_department_id')\n",
    ").alias('emp_df')\n",
    "\n",
    "# Rename columns in the second DataFrame\n",
    "mgr_df = (\n",
    "    df_employees.withColumnRenamed(\"department_id\", \"mgr_department_id\")\n",
    "                .withColumnRenamed('first_name', 'mgr_first_name')\n",
    "                .withColumnRenamed('last_name', 'mgr_last_name')\n",
    "                .withColumnRenamed('department_id', 'mgr_department_id')\n",
    ").alias('mgr_df')\n",
    "\n",
    "# Join the DataFrames and filter using qualified column names\n",
    "joined_df = emp_df.join(mgr_df, F.col(\"emp_df.manager_id\") == F.col(\"mgr_df.employee_id\"), \"inner\")\n",
    "\n",
    "# Specify the DataFrame alias when referencing the columns in the filter condition\n",
    "filtered_df = (\n",
    "    joined_df.filter(emp_df[\"emp_department_id\"] != mgr_df[\"mgr_department_id\"])\n",
    "    .select(F.concat(mgr_df['mgr_first_name'], F.lit(' '), mgr_df['mgr_last_name']).alias('manager_name'), mgr_df['mgr_department_id'], F.concat(emp_df['emp_first_name'], F.lit(' '), emp_df['emp_last_name']).alias('emp name'), emp_df['emp_department_id'])\n",
    ")\n",
    "\n",
    "filtered_df.show(5)"
   ]
  }
 ],
 "metadata": {
  "application/vnd.databricks.v1+notebook": {
   "dashboards": [],
   "language": "python",
   "notebookMetadata": {
    "pythonIndentUnit": 4
   },
   "notebookName": "20 PySpark Exercise for practice",
   "widgets": {}
  }
 },
 "nbformat": 4,
 "nbformat_minor": 0
}
